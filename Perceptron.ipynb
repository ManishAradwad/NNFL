# Implementation of Perceptron model of Neuron with constant weights and bias values
