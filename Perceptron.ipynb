{
  "nbformat": 4,
  "nbformat_minor": 0,
  "metadata": {
    "colab": {
      "name": "Perceptron.ipynb",
      "provenance": [],
      "collapsed_sections": [],
      "authorship_tag": "ABX9TyNs2SnqawVy5g8Me/orvx6F",
      "include_colab_link": true
    },
    "kernelspec": {
      "name": "python3",
      "display_name": "Python 3"
    },
    "accelerator": "GPU"
  },
  "cells": [
    {
      "cell_type": "markdown",
      "metadata": {
        "id": "view-in-github",
        "colab_type": "text"
      },
      "source": [
        "<a href=\"https://colab.research.google.com/github/ManishAradwad/NNFL/blob/master/Perceptron.ipynb\" target=\"_parent\"><img src=\"https://colab.research.google.com/assets/colab-badge.svg\" alt=\"Open In Colab\"/></a>"
      ]
    },
    {
      "cell_type": "code",
      "metadata": {
        "id": "vrZodvyA2MnW",
        "colab_type": "code",
        "outputId": "c1376743-dc59-4b1e-f84f-ae7469c943b5",
        "colab": {
          "base_uri": "https://localhost:8080/",
          "height": 816
        }
      },
      "source": [
        "# Implementation of Logic Gates with Perceptron model of Neuron with constant weights and bias values\n",
        "import numpy as np\n",
        "\n",
        "class Perceptron():\n",
        "\n",
        "  def perceptron(self, inputs, weights_bias):\n",
        "    self.model = np.add(np.dot(inputs, weights_bias[0]), weights_bias[1])\n",
        "    self.output = self.activation_function(self.model) # Output of Perceptron\n",
        "    return np.round(self.output)\n",
        "\n",
        "  def activation_function(self, model):\n",
        "    return (1 / (1 + np.exp(-self.model)))\n",
        "\n",
        "  def compute(self, input_data, weights_bias):\n",
        "    self.weights = np.array(weights_bias[0])\n",
        "    self.final_output = np.array([ self.perceptron(inp, weights_bias) for inp in input_data])\n",
        "    return self.final_output\n",
        "\n",
        "  def print_template(self, dataset, weights_bias):\n",
        "    print(\"X0\\tX1\\tX2\\tY\")\n",
        "    self.output = self.compute(dataset, weights_bias)\n",
        "    self.outputs = [\"{1}\\t{2}\\t{3}\\t{0}\".format(op, *datas) for datas, op in zip(dataset, self.output)]\n",
        "    for i in self.outputs:\n",
        "      print(i)\n",
        "\n",
        "input_data = np.array([[0,0,0],\n",
        "                       [0,0,1],\n",
        "                       [0,1,0],\n",
        "                       [0,1,1],\n",
        "                       [1,0,0],\n",
        "                       [1,0,1],\n",
        "                       [1,1,0],\n",
        "                       [1,1,1]])\n",
        "\n",
        "and_wts = [[1,1,1],-2]\n",
        "or_wts = [[1,1,1], -0.9]\n",
        "nand_wts = [[-1,-1,-1], 3]\n",
        "nor_wts = [[-1,-1,-1], 1]\n",
        "\n",
        "perc = Perceptron()\n",
        "print(\"AND GATE:\\n\")\n",
        "perc.print_template(input_data, and_wts)\n",
        "print(\"\\nOR GATE:\\n\")\n",
        "perc.print_template(input_data, or_wts)\n",
        "print(\"\\nNAND GATE:\\n\")\n",
        "perc.print_template(input_data, nand_wts)\n",
        "print(\"\\nNOR GATE:\\n\")\n",
        "perc.print_template(input_data, nor_wts)"
      ],
      "execution_count": 1,
      "outputs": [
        {
          "output_type": "stream",
          "text": [
            "AND GATE:\n",
            "\n",
            "X0\tX1\tX2\tY\n",
            "0\t0\t0\t0.0\n",
            "0\t0\t1\t0.0\n",
            "0\t1\t0\t0.0\n",
            "0\t1\t1\t0.0\n",
            "1\t0\t0\t0.0\n",
            "1\t0\t1\t0.0\n",
            "1\t1\t0\t0.0\n",
            "1\t1\t1\t1.0\n",
            "\n",
            "OR GATE:\n",
            "\n",
            "X0\tX1\tX2\tY\n",
            "0\t0\t0\t0.0\n",
            "0\t0\t1\t1.0\n",
            "0\t1\t0\t1.0\n",
            "0\t1\t1\t1.0\n",
            "1\t0\t0\t1.0\n",
            "1\t0\t1\t1.0\n",
            "1\t1\t0\t1.0\n",
            "1\t1\t1\t1.0\n",
            "\n",
            "NAND GATE:\n",
            "\n",
            "X0\tX1\tX2\tY\n",
            "0\t0\t0\t1.0\n",
            "0\t0\t1\t1.0\n",
            "0\t1\t0\t1.0\n",
            "0\t1\t1\t1.0\n",
            "1\t0\t0\t1.0\n",
            "1\t0\t1\t1.0\n",
            "1\t1\t0\t1.0\n",
            "1\t1\t1\t0.0\n",
            "\n",
            "NOR GATE:\n",
            "\n",
            "X0\tX1\tX2\tY\n",
            "0\t0\t0\t1.0\n",
            "0\t0\t1\t0.0\n",
            "0\t1\t0\t0.0\n",
            "0\t1\t1\t0.0\n",
            "1\t0\t0\t0.0\n",
            "1\t0\t1\t0.0\n",
            "1\t1\t0\t0.0\n",
            "1\t1\t1\t0.0\n"
          ],
          "name": "stdout"
        }
      ]
    }
  ]
}