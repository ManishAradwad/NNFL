""" Implementation of different Logic Gates using McCulloch-Pitt's model of Neuron. """
