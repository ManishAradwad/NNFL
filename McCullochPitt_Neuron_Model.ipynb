{
  "nbformat": 4,
  "nbformat_minor": 0,
  "metadata": {
    "colab": {
      "name": "McCullochPitt_Neuron_Model.ipynb",
      "provenance": [],
      "authorship_tag": "ABX9TyPyhRoj72B5PFWC1Vy3x4xW"
    },
    "kernelspec": {
      "name": "python3",
      "display_name": "Python 3"
    }
  },
  "cells": [
    {
      "cell_type": "code",
      "metadata": {
        "id": "0iSTrOTtxYVG",
        "colab_type": "code",
        "colab": {}
      },
      "source": [
        "\"\"\" Implementation of different logic gates using McCulloch-Pitt's model of Neuron. \"\"\"\n"
      ],
      "execution_count": 0,
      "outputs": []
    }
  ]
}