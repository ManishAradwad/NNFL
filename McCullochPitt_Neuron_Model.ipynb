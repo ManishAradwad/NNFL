{
  "nbformat": 4,
  "nbformat_minor": 0,
  "metadata": {
    "colab": {
      "name": "McCullochPitt_Neuron_Model.ipynb",
      "provenance": [],
      "authorship_tag": "ABX9TyOXICzqFSAxc4X2LzEcjUZ8"
    },
    "kernelspec": {
      "name": "python3",
      "display_name": "Python 3"
    }
  },
  "cells": [
    {
      "cell_type": "code",
      "metadata": {
        "id": "0iSTrOTtxYVG",
        "colab_type": "code",
        "colab": {}
      },
      "source": [
        "\"\"\" Implementation of different logic gates using McCulloch-Pitt's model of Neuron. \"\"\"\n",
        "import math\n",
        "import numpy as np\n",
        "import matplotlib.pyplot as plt"
      ],
      "execution_count": 0,
      "outputs": []
    },
    {
      "cell_type": "code",
      "metadata": {
        "id": "tjypRsz70-bh",
        "colab_type": "code",
        "colab": {}
      },
      "source": [
        "def sigmoid(x):\n",
        "  return 1/1+np.exp(-x)\n",
        "def sigmoid_derivative(z):\n",
        "  return sigmoid(z)*(1-sigmoid(z))"
      ],
      "execution_count": 0,
      "outputs": []
    },
    {
      "cell_type": "code",
      "metadata": {
        "id": "R6ST4Wvg2OeL",
        "colab_type": "code",
        "colab": {}
      },
      "source": [
        "input_array = np.array([[0,0,0],\n",
        "                        [0,0,1],\n",
        "                        [0,1,0],\n",
        "                        [0,1,1],\n",
        "                        [1,0,0],\n",
        "                        [1,0,1],\n",
        "                        [1,1,0],\n",
        "                        [1,1,1],])\n",
        "and_output = np.array([[0,1,1,1,1,1,1,1]]).T"
      ],
      "execution_count": 0,
      "outputs": []
    },
    {
      "cell_type": "code",
      "metadata": {
        "id": "iF-CdM542v8Q",
        "colab_type": "code",
        "colab": {}
      },
      "source": [
        "w1 = np.random.randn()\n",
        "w2 = np.random.randn()\n",
        "w3 = np.random.randn()\n",
        "weigths = np.array([[w1],[w2],[w3]])"
      ],
      "execution_count": 0,
      "outputs": []
    },
    {
      "cell_type": "code",
      "metadata": {
        "id": "fIrjoc4w2yew",
        "colab_type": "code",
        "colab": {
          "base_uri": "https://localhost:8080/",
          "height": 204
        },
        "outputId": "9852cc12-f10e-41b1-8321-7c50acb5e5bf"
      },
      "source": [
        "for i in range(5):\n",
        "  input_layer = input_array\n",
        "  u = np.dot(input_layer,weigths)\n",
        "  output = sigmoid(u)\n",
        "  error = and_output - output\n",
        "  improvement = error*sigmoid_derivative(output)\n",
        "  weigths += np.dot(input_layer.T,improvement)\n",
        "print(weigths)\n",
        "print(output)"
      ],
      "execution_count": 14,
      "outputs": [
        {
          "output_type": "stream",
          "text": [
            "[[1.98069323]\n",
            " [1.34788717]\n",
            " [1.62329486]]\n",
            "[[2.        ]\n",
            " [1.22693491]\n",
            " [1.30643754]\n",
            " [1.06954138]\n",
            " [1.15374652]\n",
            " [1.03489045]\n",
            " [1.04711371]\n",
            " [1.01069174]]\n"
          ],
          "name": "stdout"
        }
      ]
    },
    {
      "cell_type": "code",
      "metadata": {
        "id": "cwgPTmJK44F6",
        "colab_type": "code",
        "colab": {}
      },
      "source": [
        ""
      ],
      "execution_count": 0,
      "outputs": []
    }
  ]
}